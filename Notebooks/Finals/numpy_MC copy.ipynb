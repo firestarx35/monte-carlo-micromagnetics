{
 "cells": [
  {
   "cell_type": "code",
   "execution_count": 2,
   "id": "af09f0bc",
   "metadata": {},
   "outputs": [],
   "source": [
    "import discretisedfield as df\n",
    "import micromagneticmodel as mm\n",
    "import numpy as np\n",
    "from scipy.fftpack import fftn, ifftn\n",
    "import oommfc as oc\n",
    "from tqdm import tqdm"
   ]
  },
  {
   "cell_type": "code",
   "execution_count": 3,
   "id": "f7d43a3d",
   "metadata": {},
   "outputs": [],
   "source": [
    "region = df.Region(p1=(-50e-9, -50e-9, 0), p2=(50e-9, 50e-9, 10e-9))\n",
    "mesh = df.Mesh(region=region, cell=(2.5e-9, 2.5e-9, 2.5e-9))"
   ]
  },
  {
   "cell_type": "code",
   "execution_count": 4,
   "id": "cc949c19",
   "metadata": {},
   "outputs": [],
   "source": [
    "system = mm.System(name='skyrmion')\n",
    "\n",
    "system.energy = (mm.Exchange(A=1.6e-11)\n",
    "               + mm.DMI(D=4e-3, crystalclass='Cnv_z')\n",
    "               + mm.UniaxialAnisotropy(K=0.51e6, u=(0, 0, 1))\n",
    "               + mm.Demag()\n",
    "               + mm.Zeeman(H=(0, 0, 2e5)))\n",
    "# system.energy = mm.DMI(D=4e-3, crystalclass='Cnv_z')"
   ]
  },
  {
   "cell_type": "code",
   "execution_count": 5,
   "id": "b1a1817c",
   "metadata": {},
   "outputs": [
    {
     "data": {
      "text/latex": [
       "$- A \\mathbf{m} \\cdot \\nabla^{2} \\mathbf{m}+ D ( \\mathbf{m} \\cdot \\nabla m_{z} - m_{z} \\nabla \\cdot \\mathbf{m} )-K (\\mathbf{m} \\cdot \\mathbf{u})^{2}-\\frac{1}{2}\\mu_{0}M_\\text{s}\\mathbf{m} \\cdot \\mathbf{H}_\\text{d}-\\mu_{0}M_\\text{s} \\mathbf{m} \\cdot \\mathbf{H}$"
      ],
      "text/plain": [
       "Exchange(A=1.6e-11) + DMI(D=0.004, crystalclass='Cnv_z') + UniaxialAnisotropy(K=510000.0, u=(0, 0, 1)) + Demag() + Zeeman(H=(0, 0, 200000.0))"
      ]
     },
     "execution_count": 5,
     "metadata": {},
     "output_type": "execute_result"
    }
   ],
   "source": [
    "system.energy"
   ]
  },
  {
   "cell_type": "code",
   "execution_count": 6,
   "id": "28adf4d5",
   "metadata": {},
   "outputs": [],
   "source": [
    "Ms = 1.1e6\n",
    "\n",
    "def Ms_fun(pos):\n",
    "    \"\"\"Function to set magnitude of magnetisation: zero outside cylindric shape,\n",
    "    Ms inside cylinder.\n",
    "\n",
    "    Cylinder radius is 50nm.\n",
    "\n",
    "    \"\"\"\n",
    "    x, y, z = pos\n",
    "    if (x**2 + y**2)**0.5 < 50e-9:\n",
    "        return Ms\n",
    "    else:\n",
    "        return 0\n",
    "\n",
    "def m_init(pos):\n",
    "    \"\"\"Function to set initial magnetisation direction:\n",
    "    -z inside cylinder (r=10nm),\n",
    "    +z outside cylinder.\n",
    "    y-component to break symmetry.\n",
    "\n",
    "    \"\"\"\n",
    "    x, y, z = pos\n",
    "    if (x**2 + y**2)**0.5 < 10e-9:\n",
    "        return (0, 0, -1)\n",
    "    else:\n",
    "        return (0, 0, 1)\n",
    "\n",
    "\n",
    "# create system with above geometry and initial magnetisation\n",
    "system.m = df.Field(mesh, dim=3, value=m_init, norm=Ms)"
   ]
  },
  {
   "cell_type": "code",
   "execution_count": 9,
   "id": "2509713d",
   "metadata": {},
   "outputs": [
    {
     "name": "stdout",
     "output_type": "stream",
     "text": [
      "Running OOMMF (ExeOOMMFRunner)[2023/08/03 19:17]... (6.3 s)\n"
     ]
    }
   ],
   "source": [
    "# minimize the energy\n",
    "md = oc.MinDriver()\n",
    "md.drive(system)\n",
    "\n",
    "# Plot relaxed configuration: vectors in z-plane\n",
    "# system.m.plane('z').mpl()"
   ]
  },
  {
   "cell_type": "code",
   "execution_count": 7,
   "id": "12bca578",
   "metadata": {},
   "outputs": [
    {
     "name": "stderr",
     "output_type": "stream",
     "text": [
      "c:\\Users\\M Gulam Nabi\\anaconda3\\envs\\irp\\lib\\site-packages\\matplotlib\\quiver.py:646: RuntimeWarning: divide by zero encountered in scalar divide\n",
      "  length = a * (widthu_per_lenu / (self.scale * self.width))\n",
      "c:\\Users\\M Gulam Nabi\\anaconda3\\envs\\irp\\lib\\site-packages\\matplotlib\\quiver.py:646: RuntimeWarning: invalid value encountered in multiply\n",
      "  length = a * (widthu_per_lenu / (self.scale * self.width))\n"
     ]
    },
    {
     "data": {
      "image/png": "[encoded data removed]",
      "text/plain": [
       "<Figure size 800x600 with 2 Axes>"
      ]
     },
     "metadata": {},
     "output_type": "display_data"
    }
   ],
   "source": [
    "system.m.plane('z').mpl()"
   ]
  },
  {
   "cell_type": "code",
   "execution_count": 8,
   "id": "48b48e2c",
   "metadata": {},
   "outputs": [],
   "source": [
    "class MCDriver():\n",
    "    def __init__(self, system) -> None:\n",
    "        self.m0 = 4*np.pi*1e-7 # Tm/A\n",
    "        self.grid = system.m.array\n",
    "        magnitudes = np.linalg.norm(self.grid, axis=-1)\n",
    "        magnitudes[magnitudes == 0] = 1 #avoid division by zero\n",
    "        self.grid = self.grid/magnitudes[..., np.newaxis] #normalise vectors to get m(r)\n",
    "        self.dx, self.dy, self.dz = system.m.mesh.cell\n",
    "        self.temperature = system.T + 0.1 #avoid division by zero\n",
    "        self.Kb = 1.38064852e-23 #Boltzmann constant\n",
    "        # What about multiple similar energy terms????\n",
    "        try:\n",
    "            self.zeeman_K = system.energy.zeeman.H\n",
    "        except:\n",
    "            self.zeeman_K = None\n",
    "        try:\n",
    "            self.exchange_A =  system.energy.exchange.A\n",
    "        except:\n",
    "            self.exchange_A = None\n",
    "        try:\n",
    "            self.dmi_D = system.energy.dmi.D\n",
    "            self.type = system.energy.dmi.crystalclass\n",
    "        except:\n",
    "            self.dmi_D = None\n",
    "        try:\n",
    "            self.anisotropic_K, self.anisotropic_u = (system.energy.uniaxialanisotropy.K, np.array(system.energy.uniaxialanisotropy.u))\n",
    "        except:\n",
    "            self.anisotropic_K, self.anisotropic_u = (None, None)\n",
    "        try:\n",
    "            self.demag_N = system.energy.demag.N\n",
    "        except:\n",
    "            self.demag_N = None\n",
    "            \n",
    "    def zeeman_energy(self):\n",
    "        if self.zeeman_K is None:\n",
    "            return 0\n",
    "        # create a grid shape validation for length of grids shape less than 2 and more than 4 are not supported\n",
    "        if len(self.grid.shape) < 2 or len(self.grid.shape) > 4:\n",
    "            raise ValueError(\"Grid shape is not supported\")\n",
    "\n",
    "        energy = -self.m0*Ms*np.sum(np.dot(self.grid, self.zeeman_K)*self.dx*self.dy*self.dz)\n",
    "        return energy\n",
    "    \n",
    "    def anisotropic_energy(self): # only uniaxial anisotropy is supported\n",
    "        if self.anisotropic_K is None:\n",
    "            return 0\n",
    "        \n",
    "        energy = np.cross(self.grid, self.anisotropic_u)\n",
    "        energy = self.anisotropic_K*np.sum(np.sum(energy**2, axis=-1))*self.dx*self.dy*self.dz #total energy of the system\n",
    "\n",
    "        return energy\n",
    "    \n",
    "    def exchange_energy(self):\n",
    "        if self.exchange_A is None:\n",
    "            return 0\n",
    "        # compute the Laplacian\n",
    "        grid = np.pad(self.grid, ((1, 1), (1, 1), (1, 1), (0, 0)), mode='edge') # 'constant'\n",
    "        # calculate the laplacian using (f(x + h) + f(x - h) - 2f(x))h^2\n",
    "\n",
    "        laplacian_M = (((grid[2:, 1:-1, 1:-1] - 2 * grid[1:-1, 1:-1, 1:-1] + grid[:-2, 1:-1, 1:-1])/self.dx**2) + \\\n",
    "                       ((grid[1:-1, 2:, 1:-1] - 2 * grid[1:-1, 1:-1, 1:-1] + grid[1:-1, :-2, 1:-1])/self.dy**2) + \\\n",
    "                       ((grid[1:-1, 1:-1, 2:] - 2 * grid[1:-1, 1:-1, 1:-1] + grid[1:-1, 1:-1, :-2])/self.dz**2)\n",
    "                    )\n",
    "                    \n",
    "        energy = np.sum(self.grid*laplacian_M) #dot product of m and laplacian_M\n",
    "        energy = -self.exchange_A*energy*self.dx*self.dy*self.dz #total energy of the system\n",
    "        return energy\n",
    "    \n",
    "    def dmi_energy(self):\n",
    "        if self.dmi_D is None:\n",
    "            return 0\n",
    "\n",
    "            \n",
    "        grid = np.pad(self.grid, ((1, 1), (1, 1), (1, 1), (0, 0)), mode='edge') # 'constant'\n",
    "\n",
    "        if self.type == 'Cnv_z':\n",
    "            #calculate gradient of z component of m vector with respect to each axis\n",
    "            gradM_z = np.empty_like(self.grid, dtype='float64')\n",
    "            gradM_z[..., 0] = (grid[2:, 1:-1, 1:-1, 2] - grid[:-2, 1:-1, 1:-1, 2]) / (2 * self.dx)\n",
    "            gradM_z[..., 1] = (grid[1:-1, 2:, 1:-1, 2] - grid[1:-1, :-2, 1:-1, 2]) / (2 * self.dy)\n",
    "            gradM_z[..., 2] = (grid[1:-1, 1:-1, 2:, 2] - grid[1:-1, 1:-1, :-2, 2]) / (2 * self.dz)\n",
    "\n",
    "\n",
    "            #divergence of m vector\n",
    "            div_M = (\n",
    "                (grid[2:, 1:-1, 1:-1, 0] - grid[:-2, 1:-1, 1:-1, 0]) / (2 * self.dx) +\n",
    "                (grid[1:-1, 2:, 1:-1, 1] - grid[1:-1, :-2, 1:-1, 1]) / (2 * self.dy) +\n",
    "                (grid[1:-1, 1:-1, 2:, 2] - grid[1:-1, 1:-1, :-2, 2]) / (2 * self.dz)\n",
    "                )\n",
    "            \n",
    "            m_del_mz = np.sum(self.grid*gradM_z, axis=-1) #dot product of m and gradient of z component of m vector\n",
    "            mz_div_m = self.grid[..., 2]*div_M  # mz∇⋅m\n",
    "\n",
    "            energy = self.dmi_D * (np.sum(m_del_mz) - np.sum(mz_div_m)) * self.dx * self.dy * self.dz #Total energy of the system\n",
    "        \n",
    "        elif self.type == 'D2d_z':\n",
    "            #not implemented yet\n",
    "            #TODO: implement D2d_z\n",
    "            raise NotImplementedError(\"D2d_z is not implemented yet\")\n",
    "        \n",
    "        elif self.type == 'Cnv_xy':\n",
    "            # TODO: implement Cnv_xy\n",
    "            raise NotImplementedError(\"Cnv_xy is not implemented yet\")\n",
    "\n",
    "        else:    \n",
    "            curl = np.empty_like(self.grid, dtype='float64')\n",
    "            curl[..., 0] = (grid[1:-1, 2:, 1:-1, 2] - grid[1:-1, :-2, 1:-1, 2]) / (2 * self.dy) - \\\n",
    "                                    (grid[1:-1, 1:-1, 2:, 1] - grid[1:-1, 1:-1, :-2, 1]) / (2 * self.dz)\n",
    "            \n",
    "            curl[..., 1] = (grid[1:-1, 1:-1, 2:, 0] - grid[1:-1, 1:-1, :-2, 0]) / (2 * self.dz) - \\\n",
    "                                    (grid[2:, 1:-1, 1:-1, 2] - grid[:-2, 1:-1, 1:-1, 2]) / (2 * self.dx)\n",
    "            \n",
    "            curl[..., 2] = (grid[2:, 1:-1, 1:-1, 1] - grid[:-2, 1:-1, 1:-1, 1]) / (2 * self.dx) - \\\n",
    "                                    (grid[1:-1, 2:, 1:-1, 0] - grid[1:-1, :-2, 1:-1, 0]) / (2 * self.dy)\n",
    "            \n",
    "            energy= np.sum(grid*curl, axis=-1) # dot product of m and curl\n",
    "            energy = self.dmi_D*np.sum(energy)*self.dx*self.dy*self.dz # total energy of the system\n",
    "\n",
    "        return energy\n",
    "    \n",
    "\n",
    "\n",
    "    def demagnetization_energy(self):\n",
    "        \n",
    "        # Calculate the volume of a single grid cell (assuming unit cell size)\n",
    "        dV = self.dx * self.dy * self.dz\n",
    "        \n",
    "        # Fourier transform of the magnetization\n",
    "        M_fft = fftn(self.grid, axes=(0, 1, 2))\n",
    "        \n",
    "        # Demagnetization tensor for a cubic geometry (in Fourier space)\n",
    "        N = 1/3\n",
    "        N_tensor = np.array([[[[N, 0, 0], [0, N, 0], [0, 0, N]]]])\n",
    "        \n",
    "        # Fourier transform of the demagnetization field\n",
    "        H_d_fft = -N_tensor * M_fft\n",
    "        \n",
    "        # Inverse Fourier transform to get the demagnetization field in real space\n",
    "        H_d = np.real(ifftn(H_d_fft, axes=(0, 1, 2)))\n",
    "        \n",
    "        # Calculate the demagnetization energy\n",
    "        E_d = -0.5 * np.sum(self.grid * H_d) * dV\n",
    "        \n",
    "        return E_d\n",
    "\n",
    "    \n",
    "    def total_energy(self):\n",
    "        return self.zeeman_energy() + self.anisotropic_energy() + self.exchange_energy() + self.dmi_energy()\n",
    "    \n",
    "    def driver(self, N):\n",
    "\n",
    "        E_before = self.total_energy()\n",
    "\n",
    "        for i in tqdm(range(N)):\n",
    "            # 1. Randomly select a cell\n",
    "            cell_x, cell_y, cell_z = np.random.randint(0, self.grid.shape[:3]) \n",
    "\n",
    "            while np.all(self.grid[cell_x , cell_y, cell_z] == 0): #if the cell is empty, select another cell\n",
    "                cell_x, cell_y, cell_z = np.random.randint(0, self.grid.shape[:3]) \n",
    "            # 2Randomly select a direction by introducing some uniform noise to the existing direction\n",
    "\n",
    "            direction = self.grid[cell_x, cell_y, cell_z] + np.random.normal(-0.1, 0.1, size=3)\n",
    "            direction = direction/np.linalg.norm(direction) #normalise the direction vector\n",
    "\n",
    "            #3 Change the direction of the cell\n",
    "            prev_direction = np.copy(self.grid[cell_x, cell_y, cell_z])\n",
    "            self.grid[cell_x, cell_y, cell_z] = direction\n",
    "            \n",
    "            # 4 Calculate the energy of the system after the change\n",
    "            E_after = self.total_energy()\n",
    "\n",
    "            # 5 If energy is lower than previous energy, accept the change\n",
    "            delta_E = E_after - E_before\n",
    "\n",
    "            if delta_E < 0: #if energy is lower than previous energy, accept the change\n",
    "                E_before = E_after\n",
    "\n",
    "            else: #if energy is higher than previous energy, accept the change with probability exp(-dE/kT)\n",
    "                R = np.exp(-delta_E/(self.Kb*self.temperature))\n",
    "                if np.random.uniform(0, 1) < R:\n",
    "                    E_before = E_after\n",
    "\n",
    "                else:\n",
    "                    self.grid[cell_x, cell_y, cell_z] = prev_direction #revert the change\n",
    "\n",
    "\n",
    "\n",
    "        return self.grid"
   ]
  },
  {
   "cell_type": "code",
   "execution_count": 9,
   "id": "0bd97bce",
   "metadata": {},
   "outputs": [],
   "source": [
    "mc2 = MCDriver(system)"
   ]
  },
  {
   "cell_type": "code",
   "execution_count": 10,
   "id": "82bdc66d",
   "metadata": {},
   "outputs": [
    {
     "name": "stdout",
     "output_type": "stream",
     "text": [
      "Running OOMMF (ExeOOMMFRunner)[2023/08/08 12:31]... (7.8 s)\n",
      "-2.58490243537e-17 -2.58490243537e-17\n",
      "Zeeman Energy is equal:  True\n"
     ]
    }
   ],
   "source": [
    "zeeman_ubermag = oc.compute(system.energy.zeeman.energy, system)\n",
    "zeeman_MC = mc2.zeeman_energy()\n",
    "print(zeeman_ubermag, zeeman_ubermag)\n",
    "print(\"Zeeman Energy is equal: \", np.allclose(zeeman_ubermag, zeeman_MC))\n"
   ]
  },
  {
   "cell_type": "code",
   "execution_count": 11,
   "id": "6eb43fc2",
   "metadata": {},
   "outputs": [
    {
     "name": "stdout",
     "output_type": "stream",
     "text": [
      "Running OOMMF (ExeOOMMFRunner)[2023/08/08 12:31]... (7.5 s)\n",
      "2.048e-17 2.0479999999999996e-17\n",
      "Exchange energy is equal:  True\n"
     ]
    }
   ],
   "source": [
    "exchange_ubermag = oc.compute(system.energy.exchange.energy, system)\n",
    "exchange_MC = mc2.exchange_energy()\n",
    "print(exchange_ubermag, exchange_MC)\n",
    "print(\"Exchange energy is equal: \", np.allclose(exchange_ubermag, exchange_MC))\n"
   ]
  },
  {
   "cell_type": "code",
   "execution_count": 12,
   "id": "3982c2ec",
   "metadata": {},
   "outputs": [
    {
     "name": "stdout",
     "output_type": "stream",
     "text": [
      "Running OOMMF (ExeOOMMFRunner)[2023/08/08 12:31]... (7.5 s)\n",
      "0.0 0.0\n",
      "anisotropic energy is equal:  True\n"
     ]
    }
   ],
   "source": [
    "anisotropic_ubermag = oc.compute(system.energy.uniaxialanisotropy.energy, system)\n",
    "anisotropic_MC = mc2.anisotropic_energy()\n",
    "print(anisotropic_ubermag, anisotropic_MC)\n",
    "print(\"anisotropic energy is equal: \", np.allclose(anisotropic_ubermag, anisotropic_MC))"
   ]
  },
  {
   "cell_type": "code",
   "execution_count": 13,
   "id": "40b69b4c",
   "metadata": {},
   "outputs": [
    {
     "name": "stdout",
     "output_type": "stream",
     "text": [
      "Running OOMMF (ExeOOMMFRunner)[2023/08/08 12:31]... (7.5 s)\n",
      "0.0 0.0\n",
      "DMI energy is equal:  True\n"
     ]
    }
   ],
   "source": [
    "dmi_ubermag = oc.compute(system.energy.dmi.energy, system)\n",
    "dmi_MC = mc2.dmi_energy()\n",
    "print(dmi_ubermag, dmi_MC)\n",
    "print(\"DMI energy is equal: \", np.allclose(dmi_ubermag, dmi_MC))"
   ]
  },
  {
   "cell_type": "code",
   "execution_count": 15,
   "id": "79a34ea5",
   "metadata": {},
   "outputs": [
    {
     "name": "stdout",
     "output_type": "stream",
     "text": [
      "Running OOMMF (ExeOOMMFRunner)[2023/08/08 12:46]... (7.7 s)\n"
     ]
    },
    {
     "data": {
      "text/plain": [
       "5.69160893451e-17"
      ]
     },
     "execution_count": 15,
     "metadata": {},
     "output_type": "execute_result"
    }
   ],
   "source": [
    "oc.compute(system.energy.demag.energy, system)"
   ]
  },
  {
   "cell_type": "code",
   "execution_count": 16,
   "id": "1df1f549",
   "metadata": {},
   "outputs": [
    {
     "ename": "ValueError",
     "evalue": "operands could not be broadcast together with shapes (1,1,3,3) (40,40,4,3) ",
     "output_type": "error",
     "traceback": [
      "\u001b[1;31m---------------------------------------------------------------------------\u001b[0m",
      "\u001b[1;31mValueError\u001b[0m                                Traceback (most recent call last)",
      "Cell \u001b[1;32mIn[16], line 1\u001b[0m\n\u001b[1;32m----> 1\u001b[0m mc2\u001b[39m.\u001b[39;49mdemagnetization_energy()\n",
      "Cell \u001b[1;32mIn[8], line 136\u001b[0m, in \u001b[0;36mMCDriver.demagnetization_energy\u001b[1;34m(self)\u001b[0m\n\u001b[0;32m    133\u001b[0m N_tensor \u001b[39m=\u001b[39m np\u001b[39m.\u001b[39marray([[[[N, \u001b[39m0\u001b[39m, \u001b[39m0\u001b[39m], [\u001b[39m0\u001b[39m, N, \u001b[39m0\u001b[39m], [\u001b[39m0\u001b[39m, \u001b[39m0\u001b[39m, N]]]])\n\u001b[0;32m    135\u001b[0m \u001b[39m# Fourier transform of the demagnetization field\u001b[39;00m\n\u001b[1;32m--> 136\u001b[0m H_d_fft \u001b[39m=\u001b[39m \u001b[39m-\u001b[39;49mN_tensor \u001b[39m*\u001b[39;49m M_fft\n\u001b[0;32m    138\u001b[0m \u001b[39m# Inverse Fourier transform to get the demagnetization field in real space\u001b[39;00m\n\u001b[0;32m    139\u001b[0m H_d \u001b[39m=\u001b[39m np\u001b[39m.\u001b[39mreal(ifftn(H_d_fft, axes\u001b[39m=\u001b[39m(\u001b[39m0\u001b[39m, \u001b[39m1\u001b[39m, \u001b[39m2\u001b[39m)))\n",
      "\u001b[1;31mValueError\u001b[0m: operands could not be broadcast together with shapes (1,1,3,3) (40,40,4,3) "
     ]
    }
   ],
   "source": [
    "mc2.demagnetization_energy()"
   ]
  },
  {
   "cell_type": "markdown",
   "id": "09326fd8",
   "metadata": {},
   "source": [
    "## Questions to ask:\n",
    "\n",
    "1. Little difference between oommfc and my dmi\n",
    "2. Why did I revese the u vector in anisotrophic energy?\n",
    "3. How will I be graded because I am using np.gradient which calculates 1sy order accurate at the boundaries."
   ]
  },
  {
   "cell_type": "markdown",
   "id": "96539fac",
   "metadata": {},
   "source": [
    "## Performance\n",
    "1. Energy calculation is done once per iteration this gives a performance advantage because the gradient, laplacian are not calculated twice.\n",
    "2. For 10000 iteartions this takes about 6.5seconds \n"
   ]
  },
  {
   "cell_type": "markdown",
   "id": "b35f75d6",
   "metadata": {},
   "source": []
  }
 ],
 "metadata": {
  "kernelspec": {
   "display_name": "Python 3 (ipykernel)",
   "language": "python",
   "name": "python3"
  },
  "language_info": {
   "codemirror_mode": {
    "name": "ipython",
    "version": 3
   },
   "file_extension": ".py",
   "mimetype": "text/x-python",
   "name": "python",
   "nbconvert_exporter": "python",
   "pygments_lexer": "ipython3",
   "version": "3.10.11"
  }
 },
 "nbformat": 4,
 "nbformat_minor": 5
}
