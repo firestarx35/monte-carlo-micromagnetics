{
 "cells": [
  {
   "cell_type": "code",
   "execution_count": 3,
   "metadata": {},
   "outputs": [],
   "source": [
    "import discretisedfield as df\n",
    "import micromagneticmodel as mm\n",
    "import numpy as np\n",
    "import oommfc as oc\n"
   ]
  },
  {
   "cell_type": "code",
   "execution_count": 4,
   "metadata": {},
   "outputs": [],
   "source": [
    "region = df.Region(p1=(-75e-9, -75e-9, -75e-9), p2=(75e-9, 75e-9, 75e-9))\n",
    "mesh = df.Mesh(region=region, cell=(5e-9, 5e-9, 5e-9))\n",
    "\n",
    "system = mm.System(name='skyrmion')"
   ]
  },
  {
   "cell_type": "code",
   "execution_count": null,
   "metadata": {},
   "outputs": [],
   "source": [
    "class MCDriver1():\n",
    "    def __init__(self, system) -> None:\n",
    "        self.m0 = 4*np.pi*1e-7 # Tm/A\n",
    "        self.grid = system.m.array\n",
    "        magnitudes = np.linalg.norm(self.grid, axis=-1)\n",
    "        magnitudes[magnitudes == 0] = 1 #avoid division by zero\n",
    "        self.grid = self.grid/magnitudes[..., np.newaxis] #normalise vectors to get m(r)\n",
    "        self.dx, self.dy, self.dz = system.m.mesh.cell\n",
    "        self.temperature = system.T + 1e-12 #avoid division by zero\n",
    "        self.Kb = 1.38064852e-23 #Boltzmann constant\n",
    "        # What about multiple similar energy terms????\n",
    "        try:\n",
    "            self.zeeman_K = np.array(system.energy.zeeman.H)\n",
    "        except:\n",
    "            self.zeeman_K = None\n",
    "        try:\n",
    "            self.exchange_A =  system.energy.exchange.A\n",
    "        except:\n",
    "            self.exchange_A = None\n",
    "        try:\n",
    "            self.dmi_D = system.energy.dmi.D\n",
    "            self.type = system.energy.dmi.crystalclass\n",
    "        except:\n",
    "            self.dmi_D = None\n",
    "        try:\n",
    "            self.anisotropic_K, self.anisotropic_u = (system.energy.uniaxialanisotropy.K, np.array(system.energy.uniaxialanisotropy.u))\n",
    "        except:\n",
    "            self.anisotropic_K, self.anisotropic_u = (None, None)\n"
   ]
  },
  {
   "cell_type": "code",
   "execution_count": null,
   "metadata": {},
   "outputs": [],
   "source": []
  },
  {
   "cell_type": "code",
   "execution_count": null,
   "metadata": {},
   "outputs": [],
   "source": []
  }
 ],
 "metadata": {
  "kernelspec": {
   "display_name": "irp",
   "language": "python",
   "name": "python3"
  },
  "language_info": {
   "codemirror_mode": {
    "name": "ipython",
    "version": 3
   },
   "file_extension": ".py",
   "mimetype": "text/x-python",
   "name": "python",
   "nbconvert_exporter": "python",
   "pygments_lexer": "ipython3",
   "version": "3.10.11"
  },
  "orig_nbformat": 4
 },
 "nbformat": 4,
 "nbformat_minor": 2
}
