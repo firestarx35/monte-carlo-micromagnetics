{
 "cells": [
  {
   "cell_type": "code",
   "execution_count": null,
   "metadata": {},
   "outputs": [],
   "source": [
    "from numba import cuda\n",
    "import numpy as np"
   ]
  },
  {
   "cell_type": "code",
   "execution_count": null,
   "metadata": {},
   "outputs": [],
   "source": [
    "@cuda.jit\n",
    "def zeeman_energy(grid, zeeman_K, m0, Ms, dx, dy, dz, result):\n",
    "    x, y, z = cuda.grid(3)\n",
    "    if zeeman_K is None:\n",
    "        result[0] = 0\n",
    "        return\n",
    "\n",
    "    shape = grid.shape\n",
    "    if len(shape) < 2 or len(shape) > 4:\n",
    "        raise ValueError(\"Grid shape is not supported\")\n",
    "\n",
    "    if x < shape[0] and y < shape[1] and z < shape[2]:\n",
    "        energy_sum = -m0 * Ms * (grid[x, y, z] * zeeman_K[x, y, z]) * dx * dy * dz\n",
    "        cuda.atomic.add(result, 0, energy_sum)\n",
    "\n",
    "@cuda.jit\n",
    "def anisotropic_energy(grid, anisotropic_u, anisotropic_K, dx, dy, dz, result):\n",
    "    x, y = cuda.grid(2)\n",
    "    if anisotropic_K is None:\n",
    "        result[0] = 0\n",
    "        return\n",
    "\n",
    "    shape = grid.shape\n",
    "    if x < shape[0] and y < shape[1]:\n",
    "        energy_dot = np.dot(grid[x, y, :], anisotropic_u[::-1])\n",
    "        energy_square = energy_dot ** 2\n",
    "        energy_sum = anisotropic_K * energy_square * dx * dy * dz\n",
    "        cuda.atomic.add(result, 0, energy_sum)\n"
   ]
  },
  {
   "cell_type": "code",
   "execution_count": null,
   "metadata": {},
   "outputs": [],
   "source": [
    "\n",
    "@cuda.jit\n",
    "def exchange_energy(grid, exchange_A, dx, dy, dz, result):\n",
    "    x, y, z = cuda.grid(3)\n",
    "    shape = grid.shape\n",
    "\n",
    "    if exchange_A is None:\n",
    "        result[0] = 0\n",
    "        return\n",
    "\n",
    "    if x < shape[0] - 1 and y < shape[1] - 1 and z < shape[2] - 1:\n",
    "        laplacian_M = cuda.local.array(shape=(3,), dtype=float64)\n",
    "\n",
    "        for i in range(3):\n",
    "            laplacian_M[i] = (\n",
    "                (grid[x + 1, y, z, i] - 2 * grid[x, y, z, i] + grid[x - 1, y, z, i]) / (dx * dx)\n",
    "                + (grid[x, y + 1, z, i] - 2 * grid[x, y, z, i] + grid[x, y - 1, z, i]) / (dy * dy)\n",
    "                + (grid[x, y, z + 1, i] - 2 * grid[x, y, z, i] + grid[x, y, z - 1, i]) / (dz * dz)\n",
    "            )\n",
    "\n",
    "        energy_dot = 0\n",
    "        for i in range(3):\n",
    "            energy_dot += grid[x, y, z, i] * laplacian_M[i]\n",
    "\n",
    "        energy_sum = -exchange_A * energy_dot * dx * dy * dz\n",
    "        cuda.atomic.add(result, 0, energy_sum)\n"
   ]
  },
  {
   "cell_type": "code",
   "execution_count": null,
   "metadata": {},
   "outputs": [],
   "source": [
    "\n",
    "@cuda.jit\n",
    "def dmi_energy(grid, dmi_D, dx, dy, dz, type_string, result):\n",
    "    x, y, z = cuda.grid(3)\n",
    "    shape = grid.shape\n",
    "\n",
    "    if dmi_D is None:\n",
    "        result[0] = 0\n",
    "        return\n",
    "\n",
    "    if x < shape[0] - 1 and y < shape[1] - 1 and z < shape[2] - 1:\n",
    "        # Implementing the 'Cnv_z' case as an example\n",
    "        if type_string == 'Cnv_z':\n",
    "            gradM_z = cuda.local.array(shape=(3,), dtype=np.float64)\n",
    "            gradM_z[0] = (grid[x + 1, y, z, 2] - grid[x - 1, y, z, 2]) / (2 * dx) # Approximation for dmz/dx\n",
    "            gradM_z[1] = (grid[x, y + 1, z, 2] - grid[x, y - 1, z, 2]) / (2 * dy) # Approximation for dmz/dy\n",
    "            gradM_z[2] = (grid[x, y, z + 1, 2] - grid[x, y, z - 1, 2]) / (2 * dz) # Approximation for dmz/dz\n",
    "\n",
    "            div_M = (grid[x + 1, y, z, 0] - grid[x - 1, y, z, 0]) / (2 * dx) + \\\n",
    "                    (grid[x, y + 1, z, 1] - grid[x, y - 1, z, 1]) / (2 * dy) + \\\n",
    "                    (grid[x, y, z + 1, 2] - grid[x, y, z - 1, 2]) / (2 * dz)\n",
    "\n",
    "            m_del_mz = grid[x, y, z, 0] * gradM_z[0] + grid[x, y, z, 1] * gradM_z[1] + grid[x, y, z, 2] * gradM_z[2]\n",
    "            mz_div_m = grid[x, y, z, 2] * div_M\n",
    "\n",
    "            energy_sum = dmi_D * (m_del_mz - mz_div_m) * dx * dy * dz\n",
    "            cuda.atomic.add(result, 0, energy_sum)\n"
   ]
  }
 ],
 "metadata": {
  "kernelspec": {
   "display_name": "irp",
   "language": "python",
   "name": "python3"
  },
  "language_info": {
   "name": "python",
   "version": "3.10.11"
  },
  "orig_nbformat": 4
 },
 "nbformat": 4,
 "nbformat_minor": 2
}
